{
 "cells": [
  {
   "cell_type": "markdown",
   "metadata": {},
   "source": [
    "# Compression Test Data Analysis\n",
    "### Logan Halstrom\n",
    "\n",
    "A visuallization and analysis demonstration of internal combustion engine compression test data. Compare maximum cylinder pressures to reveal performance variations.  Plot cylinder pressure histories.  Compare dry and wet compression tests.\n",
    "\n",
    "## Background\n",
    "\n",
    "Why do a compression test\n",
    "\n",
    "dry vs wet test"
   ]
  },
  {
   "cell_type": "markdown",
   "metadata": {},
   "source": [
    "## Data Acquisition\n",
    "Many other guides you can refer to for this\n",
    "### Instrumentation\n",
    "\n",
    "Gear rental from Oriley.  A pressure transducer would be much more efficient for this\n",
    "\n",
    "Camera with equipment for steady recording\n",
    "\n",
    "Assistant to turn ignition\n",
    "\n",
    "### Procedure\n",
    "\n",
    "Things to disconnect\n",
    "\n",
    "Warnings about guage attachments\n",
    "\n",
    "How experiment order affects results (I don't know)\n",
    "\n",
    "### Data Recording\n",
    "\n",
    "Techniques for gathering pressure time history\n",
    "\n",
    "Format of spreadsheet\n",
    "\n",
    "Format of data file\n",
    "\n",
    "Only maxima analysis is really necessary for functional compression test\n",
    "\n",
    "\n",
    "\n"
   ]
  },
  {
   "cell_type": "markdown",
   "metadata": {},
   "source": [
    "## Imports and Plotting Boilerplate\n",
    "Basic setup and plot formatting"
   ]
  },
  {
   "cell_type": "code",
   "execution_count": 1,
   "metadata": {
    "collapsed": false
   },
   "outputs": [
    {
     "data": {
      "application/javascript": [
       "\n",
       "IPython.OutputArea.prototype._should_scroll = function(lines) {\n",
       "    return false;\n",
       "}\n"
      ],
      "text/plain": [
       "<IPython.core.display.Javascript object>"
      ]
     },
     "metadata": {},
     "output_type": "display_data"
    }
   ],
   "source": [
    "#STANDARD IMPORTS\n",
    "import numpy as np\n",
    "import os\n",
    "\n",
    "#####################################################################\n",
    "### PLOTTING SETUP ##################################################\n",
    "#####################################################################\n",
    "\n",
    "import matplotlib.pyplot as plt\n",
    "%matplotlib inline\n",
    "#DEFAULT FIGURE SIZING\n",
    "factor = 1 #scaling factor\n",
    "plt.rcParams['figure.figsize'] = 6*factor, 6*factor #square plot\n",
    "\n",
    "#HOW TO DISABLE AUTOSCROLL OF RESULTS\n",
    "from IPython.display import display, Javascript\n",
    "disable_autoscroll = \"\"\"\n",
    "IPython.OutputArea.prototype._should_scroll = function(lines) {\n",
    "    return false;\n",
    "}\n",
    "\"\"\"\n",
    "display(Javascript(disable_autoscroll))\n",
    "\n",
    "######################################################################\n",
    "#MY CUSTOM PLOTTING SETTINGS (OPTIONAL)\n",
    "\n",
    "#CHANGE DEFAULT PLOT COLORS\n",
    "#List of hexademical color codes:\n",
    "colornames = [\"windows blue\", \"dusty purple\", \"leaf green\",\n",
    "                \"macaroni and cheese\", \"cherry\", \"greyish\", \"charcoal\",\n",
    "                \"salmon pink\", \"sandstone\", \"tangerine\",]\n",
    "\n",
    "#CHANGE DEFAULT FONT SIZES\n",
    "Ttl = 32 #Title\n",
    "Lbl = 32 #Axis Labels\n",
    "Box = 28 #Textbox\n",
    "Tck = 22 #Axis tick labels\n",
    "\n",
    "#INFO FOR SAVING PLOTS\n",
    "savetype = '.png'   #File type of saved plots\n",
    "savedir = 'results' #Directory to save plots in\n",
    "if not os.path.exists(savedir): #If directory to save plots in doesnt exist,\n",
    "    os.makedirs(savedir)        #make directory to save plots in\n",
    "\n",
    "#CUSTOM LINE MARKER CYCLES FOR LATER USE\n",
    "smallmarkers = ['.', '*', 'd', '1', '+']\n",
    "bigmarkers = ['o', 'v', 'd', 's', '*', 'D', 'p', '>', 'H', '8']\n",
    "scattermarkers = ['o', 'v', 'd', 's', 'p']\n",
    "\n",
    "########################################################################\n",
    "#SET DEFAULT FONT SIZES\n",
    "params = {\n",
    "          'axes.labelsize' : Lbl,\n",
    "          'axes.titlesize' : Ttl,\n",
    "#           'text.fontsize'  : Box,\n",
    "          'font.size'      : Box,\n",
    "          # 'legend.fontsize': Leg,\n",
    "          'xtick.labelsize': Tck,\n",
    "          'ytick.labelsize': Tck,\n",
    "          'font.family': 'helvetica'\n",
    "}\n",
    "import matplotlib\n",
    "matplotlib.rcParams.update(params)\n",
    "\n",
    "#SET DEFAULT FIGURE APPERANCE\n",
    "import seaborn as sns #Fancy plotting package\n",
    "#No Background fill, legend font scale, frame on legend\n",
    "sns.set(style='whitegrid', font_scale=1.5, rc={'legend.frameon': True})\n",
    "#Mark ticks with border on all four sides (overrides 'whitegrid')\n",
    "sns.set_style('ticks')\n",
    "#ticks point in\n",
    "sns.set_style({\"xtick.direction\": \"in\",\"ytick.direction\": \"in\"})\n",
    "#Set new default colormap\n",
    "sns.set_palette(sns.xkcd_palette(colornames))\n",
    "#FIX INVISIBLE MARKER BUG\n",
    "sns.set_context(rc={'lines.markeredgewidth': 0.1})\n",
    "\n",
    "colors = sns.color_palette() #Get color cycle for manual colors"
   ]
  },
  {
   "cell_type": "markdown",
   "metadata": {},
   "source": [
    "## Data Analysis\n",
    "### Load Data\n",
    "\n",
    "Choose inputs for your specific test case.  Provide the file path to your test data, give your test a name, and provide plot bounding limits.  Give a percentage threshold for how much a given cylinder can deviate from the maximum of its peers (lower pressure is bad).  Choose whether you would like to analyze only dry compression test data or both dry and wet test data.  Finally, select the approriate number of cylinders for your engine.\n"
   ]
  },
  {
   "cell_type": "code",
   "execution_count": 2,
   "metadata": {
    "collapsed": true
   },
   "outputs": [],
   "source": [
    "#Inputs\n",
    "path = 'Data/CompTest_2016-02-11_1st_1999Camry.dat'  #Path to datafile\n",
    "name = 3                    #Name of compression test\n",
    "ylim = [50, 275]            # Limits for plots\n",
    "thresh=15                      #percent threshold for poor cylinder performance\n",
    "tests=['dry', 'wet']           #Types of tests (dry only or wet and try)\n",
    "ncyl=4                         #Number of cylinders in engine\n",
    "cyls = np.arange(1, ncyl+1, 1) #List of cylinder numbers"
   ]
  },
  {
   "cell_type": "markdown",
   "metadata": {},
   "source": [
    "I have formatted my compression test data as comma-separated values, with empty data represented by whitespace.  The data is read into a Pandas dataframe, and the whitespace values are manually replaced with NaN.\n",
    "\n",
    "I include this extra step so that the data in the spreadsheet can be manually formated into a pseudo-csv format with ease.  You may also choose to save a true .csv file and load it accordingly.\n",
    "\n",
    "The function for loading my data into a dataframe is contained below:"
   ]
  },
  {
   "cell_type": "code",
   "execution_count": 3,
   "metadata": {
    "collapsed": false
   },
   "outputs": [
    {
     "ename": "NameError",
     "evalue": "name 'pd' is not defined",
     "output_type": "error",
     "traceback": [
      "\u001b[0;31m---------------------------------------------------------------------------\u001b[0m",
      "\u001b[0;31mNameError\u001b[0m                                 Traceback (most recent call last)",
      "\u001b[0;32m<ipython-input-3-1bc2e995858d>\u001b[0m in \u001b[0;36m<module>\u001b[0;34m()\u001b[0m\n\u001b[1;32m     14\u001b[0m     \u001b[0;32mreturn\u001b[0m \u001b[0mdf\u001b[0m\u001b[0;34m\u001b[0m\u001b[0m\n\u001b[1;32m     15\u001b[0m \u001b[0;34m\u001b[0m\u001b[0m\n\u001b[0;32m---> 16\u001b[0;31m \u001b[0mdf\u001b[0m \u001b[0;34m=\u001b[0m \u001b[0mReadCompTestData\u001b[0m\u001b[0;34m(\u001b[0m\u001b[0mpath\u001b[0m\u001b[0;34m)\u001b[0m    \u001b[0;31m#Load compression test pressure data\u001b[0m\u001b[0;34m\u001b[0m\u001b[0m\n\u001b[0m",
      "\u001b[0;32m<ipython-input-3-1bc2e995858d>\u001b[0m in \u001b[0;36mReadCompTestData\u001b[0;34m(filename)\u001b[0m\n\u001b[1;32m      7\u001b[0m                              '1wet', '2wet', '3wet', '4wet']\n\u001b[1;32m      8\u001b[0m     \u001b[0;31m#Read data, assign columnnames\u001b[0m\u001b[0;34m\u001b[0m\u001b[0;34m\u001b[0m\u001b[0m\n\u001b[0;32m----> 9\u001b[0;31m     \u001b[0mdf\u001b[0m \u001b[0;34m=\u001b[0m \u001b[0mpd\u001b[0m\u001b[0;34m.\u001b[0m\u001b[0mread_csv\u001b[0m\u001b[0;34m(\u001b[0m\u001b[0mfilename\u001b[0m\u001b[0;34m,\u001b[0m \u001b[0msep\u001b[0m\u001b[0;34m=\u001b[0m\u001b[0;34m','\u001b[0m\u001b[0;34m,\u001b[0m \u001b[0mnames\u001b[0m\u001b[0;34m=\u001b[0m\u001b[0mcolumnnames\u001b[0m\u001b[0;34m)\u001b[0m\u001b[0;34m\u001b[0m\u001b[0m\n\u001b[0m\u001b[1;32m     10\u001b[0m     \u001b[0;31m#Replace whitespace (blanks) with NaNs\u001b[0m\u001b[0;34m\u001b[0m\u001b[0;34m\u001b[0m\u001b[0m\n\u001b[1;32m     11\u001b[0m     \u001b[0mdf\u001b[0m \u001b[0;34m=\u001b[0m \u001b[0mdf\u001b[0m\u001b[0;34m.\u001b[0m\u001b[0mreplace\u001b[0m\u001b[0;34m(\u001b[0m\u001b[0;34mr'\\s+'\u001b[0m\u001b[0;34m,\u001b[0m \u001b[0mnp\u001b[0m\u001b[0;34m.\u001b[0m\u001b[0mnan\u001b[0m\u001b[0;34m,\u001b[0m \u001b[0mregex\u001b[0m\u001b[0;34m=\u001b[0m\u001b[0;32mTrue\u001b[0m\u001b[0;34m)\u001b[0m\u001b[0;34m\u001b[0m\u001b[0m\n",
      "\u001b[0;31mNameError\u001b[0m: name 'pd' is not defined"
     ]
    }
   ],
   "source": [
    "def ReadCompTestData(filename):\n",
    "    \"\"\"Reads compression test data from csv file into pandas dataframe.\n",
    "    filename --> path to data file to read\n",
    "    \"\"\"\n",
    "\n",
    "    columnnames = ['Stroke', '1dry', '2dry', '3dry', '4dry',\n",
    "                             '1wet', '2wet', '3wet', '4wet']\n",
    "    #Read data, assign columnnames\n",
    "    df = pd.read_csv(filename, sep=',', names=columnnames)\n",
    "    #Replace whitespace (blanks) with NaNs\n",
    "    df = df.replace(r'\\s+', np.nan, regex=True)\n",
    "    #Make all value float\n",
    "    df = df.apply(pd.to_numeric)\n",
    "    return df\n",
    "\n",
    "df = ReadCompTestData(path)    #Load compression test pressure data"
   ]
  },
  {
   "cell_type": "code",
   "execution_count": null,
   "metadata": {
    "collapsed": true
   },
   "outputs": [],
   "source": []
  },
  {
   "cell_type": "code",
   "execution_count": null,
   "metadata": {
    "collapsed": true
   },
   "outputs": [],
   "source": []
  },
  {
   "cell_type": "code",
   "execution_count": null,
   "metadata": {
    "collapsed": true
   },
   "outputs": [],
   "source": []
  },
  {
   "cell_type": "markdown",
   "metadata": {},
   "source": [
    "An approximation of the *turbulent* boundary layer x-velocity distribution between the wall and boundary layer edge can be written as:\n",
    "\n",
    "#### Turbulent Boundary Layer Velocity Profile\n",
    "$$\\frac{u}{u_e} \\approx \\left( \\frac{y}{\\delta} \\right)^\\frac{1}{7}$$\n",
    "\n",
    "where $\\frac{y}{\\delta}$ is the vertical coordinate in the boundary layer at some x-location non-dimensionalized by the physical boundary layer thickness at that x-location and $\\frac{u}{u_e}$ is the velocity in the x-direction non-dimensionalized by the x-velocity of the flow at the edge of the boundary layer (where $y=\\delta$).\n",
    "\n",
    "We can calculate the non-dimensional velocity profile anywhere along the turbulent boundary layer by creating a non-dimensional $\\frac{y}{\\delta}$ that varies from 0 to 1 and calculating $\\frac{u}{u_e}$ with the above equation:"
   ]
  },
  {
   "cell_type": "markdown",
   "metadata": {},
   "source": [
    "### Notebook Styling Setup"
   ]
  },
  {
   "cell_type": "code",
   "execution_count": null,
   "metadata": {
    "collapsed": false
   },
   "outputs": [],
   "source": [
    "#NOTE: 'styles' folder must be downloaded and placed in the path shown below\n",
    "    #Otherwise comment this section out\n",
    "from IPython.core.display import HTML\n",
    "def css_styling():\n",
    "   styles = open('styles/custom.css', 'r').read()\n",
    "   return HTML(styles)\n",
    "css_styling()"
   ]
  },
  {
   "cell_type": "code",
   "execution_count": null,
   "metadata": {
    "collapsed": true
   },
   "outputs": [],
   "source": []
  }
 ],
 "metadata": {
  "kernelspec": {
   "display_name": "Python 3",
   "language": "python",
   "name": "python3"
  },
  "language_info": {
   "codemirror_mode": {
    "name": "ipython",
    "version": 3
   },
   "file_extension": ".py",
   "mimetype": "text/x-python",
   "name": "python",
   "nbconvert_exporter": "python",
   "pygments_lexer": "ipython3",
   "version": "3.6.0"
  }
 },
 "nbformat": 4,
 "nbformat_minor": 0
}
